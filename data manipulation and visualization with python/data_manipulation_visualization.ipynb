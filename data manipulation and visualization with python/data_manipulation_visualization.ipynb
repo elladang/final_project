{
 "cells": [
  {
   "cell_type": "markdown",
   "metadata": {},
   "source": [
    "###   1 \n",
    "\n",
    "##### Xây dựng hàm kiểm tra số def kiem_tra_chu_so(so) để kiểm tra số truyền vào có phải là số mà tất cả các chữ số của nó đều là số chẵn hoặc đều là số lẻ. Kết quả trả về True nếu là tất cả các chữ số của số đó đều là số chẵn hoặc đều là số lẻ, ngược lại trả về False. \n",
    "\tPhát sinh mảng 2 chiều có kích thước 4x4 với các phần tử có giá trị phát sinh ngẫu nhiên từ 1 đến 100 với np.random.seed(4). (0.5 điểm)\n",
    "\tKiểm tra và xuất ra danh sách các phần tử trên đường chéo chính mà các chữ số của phần tử đó đều là số chẵn hoặc đều là số lẻ (0.5 điểm)\n",
    "\n"
   ]
  },
  {
   "cell_type": "code",
   "execution_count": null,
   "metadata": {
    "vscode": {
     "languageId": "plaintext"
    }
   },
   "outputs": [],
   "source": []
  }
 ],
 "metadata": {
  "language_info": {
   "name": "python"
  }
 },
 "nbformat": 4,
 "nbformat_minor": 2
}
