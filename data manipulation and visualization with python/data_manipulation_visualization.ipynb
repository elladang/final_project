{
 "cells": [
  {
   "cell_type": "markdown",
   "metadata": {},
   "source": [
    "#### 1 \n",
    "\n",
    "** \n",
    "- Xây dựng hàm kiểm tra số def kiem_tra_chu_so(so) để kiểm tra số truyền vào có phải là số mà tất cả các chữ số của nó đều là số chẵn hoặc đều là số lẻ. Kết quả trả về True nếu là tất cả các chữ số của số đó đều là số chẵn hoặc đều là số lẻ, ngược lại trả về False. \n",
    "\n",
    "- Phát sinh mảng 2 chiều có kích thước 4x4 với các phần tử có giá trị phát sinh ngẫu nhiên từ 1 đến 100 với np.random.seed(4). \n",
    "\n",
    "- Kiểm tra và xuất ra danh sách các phần tử trên đường chéo chính mà các chữ số của phần tử đó đều là số chẵn hoặc đều là số lẻ **\n",
    "\n"
   ]
  },
  {
   "cell_type": "code",
   "execution_count": 63,
   "metadata": {},
   "outputs": [
    {
     "name": "stdout",
     "output_type": "stream",
     "text": [
      "False\n",
      "[[3 3 2 2]\n",
      " [1 1 3 2]\n",
      " [3 1 2 3]\n",
      " [2 1 1 3]]\n",
      "Mảng 2 chiều 4x4: \n",
      "[[3 3 2 2]\n",
      " [1 1 3 2]\n",
      " [3 1 2 3]\n",
      " [2 1 1 3]]\n",
      "\n",
      "Danh sách các phần tử trên đường chéo chính có chữ số đều là số chẵn hoặc số lẻ: [2]\n"
     ]
    }
   ],
   "source": [
    "import numpy as np\n",
    "def kiem_tra_chu_so(so): \n",
    "    str_so = str(so)\n",
    "    so_chan = [ i for i in str_so if int(i)%2 == 0]\n",
    "    if len(so_chan) == len(str_so): \n",
    "        return True\n",
    "    else: return False\n",
    "print(kiem_tra_chu_so(222245))  \n",
    "\n",
    "np.random.seed(4)\n",
    "arr1= np.random.randint(1,4, size= (4,4))\n",
    "print(arr1)\n",
    "\n",
    "duong_cheo = [ arr1[i,i] for i in range(4)]\n",
    "ket_qua = [int(i) for i in duong_cheo if kiem_tra_chu_so(i)]\n",
    "\n",
    "print(f\"Mảng 2 chiều 4x4: \\n{arr1}\")\n",
    "print(f\"\\nDanh sách các phần tử trên đường chéo chính có chữ số đều là số chẵn hoặc số lẻ: {ket_qua}\")"
   ]
  },
  {
   "cell_type": "code",
   "execution_count": null,
   "metadata": {},
   "outputs": [],
   "source": []
  }
 ],
 "metadata": {
  "kernelspec": {
   "display_name": "Python 3",
   "language": "python",
   "name": "python3"
  },
  "language_info": {
   "codemirror_mode": {
    "name": "ipython",
    "version": 3
   },
   "file_extension": ".py",
   "mimetype": "text/x-python",
   "name": "python",
   "nbconvert_exporter": "python",
   "pygments_lexer": "ipython3",
   "version": "3.9.6"
  }
 },
 "nbformat": 4,
 "nbformat_minor": 2
}
