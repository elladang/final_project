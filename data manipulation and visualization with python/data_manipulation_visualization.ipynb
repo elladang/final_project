{
 "cells": [
  {
   "cell_type": "markdown",
   "metadata": {},
   "source": [
    "#### 1 \n",
    "\n",
    "** \n",
    "- Xây dựng hàm kiểm tra số def kiem_tra_chu_so(so) để kiểm tra số truyền vào có phải là số mà tất cả các chữ số của nó đều là số chẵn hoặc đều là số lẻ. Kết quả trả về True nếu là tất cả các chữ số của số đó đều là số chẵn hoặc đều là số lẻ, ngược lại trả về False. \n",
    "\n",
    "- Phát sinh mảng 2 chiều có kích thước 4x4 với các phần tử có giá trị phát sinh ngẫu nhiên từ 1 đến 100 với np.random.seed(4). \n",
    "\n",
    "- Kiểm tra và xuất ra danh sách các phần tử trên đường chéo chính mà các chữ số của phần tử đó đều là số chẵn hoặc đều là số lẻ **\n",
    "\n"
   ]
  },
  {
   "cell_type": "code",
   "execution_count": 64,
   "metadata": {},
   "outputs": [
    {
     "name": "stdout",
     "output_type": "stream",
     "text": [
      "Mảng 2 chiều 4x4: \n",
      "[[3 3 2 2]\n",
      " [1 1 3 2]\n",
      " [3 1 2 3]\n",
      " [2 1 1 3]]\n",
      "\n",
      "Danh sách các phần tử trên đường chéo chính có chữ số đều là số chẵn hoặc số lẻ: [2]\n"
     ]
    }
   ],
   "source": [
    "import numpy as np\n",
    "def kiem_tra_chu_so(so): \n",
    "    str_so = str(so)\n",
    "    so_chan = [ i for i in str_so if int(i)%2 == 0]\n",
    "    if len(so_chan) == len(str_so): \n",
    "        return True\n",
    "    else: return False \n",
    "\n",
    "np.random.seed(4)\n",
    "arr1= np.random.randint(1,4, size= (4,4))\n",
    "\n",
    "duong_cheo = [ arr1[i,i] for i in range(4)]\n",
    "ket_qua = [int(i) for i in duong_cheo if kiem_tra_chu_so(i)]\n",
    "\n",
    "print(f\"Mảng 2 chiều 4x4: \\n{arr1}\")\n",
    "print(f\"\\nDanh sách các phần tử trên đường chéo chính có chữ số đều là số chẵn hoặc số lẻ: {ket_qua}\")"
   ]
  },
  {
   "cell_type": "code",
   "execution_count": 92,
   "metadata": {},
   "outputs": [
    {
     "ename": "ModuleNotFoundError",
     "evalue": "No module named 'matplotlib'",
     "output_type": "error",
     "traceback": [
      "\u001b[0;31m---------------------------------------------------------------------------\u001b[0m",
      "\u001b[0;31mModuleNotFoundError\u001b[0m                       Traceback (most recent call last)",
      "Cell \u001b[0;32mIn[92], line 2\u001b[0m\n\u001b[1;32m      1\u001b[0m \u001b[38;5;28;01mimport\u001b[39;00m\u001b[38;5;250m \u001b[39m\u001b[38;5;21;01mcsv\u001b[39;00m\n\u001b[0;32m----> 2\u001b[0m \u001b[38;5;28;01mimport\u001b[39;00m\u001b[38;5;250m \u001b[39m\u001b[38;5;21;01mmatplotlib\u001b[39;00m\u001b[38;5;250m \u001b[39m\u001b[38;5;28;01mas\u001b[39;00m\u001b[38;5;250m \u001b[39m\u001b[38;5;21;01mplt\u001b[39;00m\n\u001b[1;32m      3\u001b[0m \u001b[38;5;28;01mwith\u001b[39;00m \u001b[38;5;28mopen\u001b[39m(\u001b[38;5;124m'\u001b[39m\u001b[38;5;124mudemy_courses.csv\u001b[39m\u001b[38;5;124m'\u001b[39m, \u001b[38;5;124m'\u001b[39m\u001b[38;5;124mr\u001b[39m\u001b[38;5;124m'\u001b[39m, encoding \u001b[38;5;241m=\u001b[39m \u001b[38;5;124m'\u001b[39m\u001b[38;5;124mutf-8\u001b[39m\u001b[38;5;124m'\u001b[39m) \u001b[38;5;28;01mas\u001b[39;00m file: \n\u001b[1;32m      4\u001b[0m     nd \u001b[38;5;241m=\u001b[39m csv\u001b[38;5;241m.\u001b[39mreader(file)\n",
      "\u001b[0;31mModuleNotFoundError\u001b[0m: No module named 'matplotlib'"
     ]
    }
   ],
   "source": [
    "import csv\n",
    "import matplotlib as plt\n",
    "with open('udemy_courses.csv', 'r', encoding = 'utf-8') as file: \n",
    "    nd = csv.reader(file)\n",
    "    header = next(nd)\n",
    "    course_title = []\n",
    "    for i in nd: \n",
    "        course_title.append(i[1])\n",
    "stop_words = set([\n",
    "    'a', 'an', 'the', 'and', 'in', 'on', 'of', 'at', 'for', 'with', 'as', 'to', 'by', 'is', 'are', 'it', 'that', 'this', 'which', 'be'\n",
    "])\n",
    "text = ' '.join(course_title)\n",
    "word = text.split()\n",
    "filter_words = [ i for i in word if i not in stop_words ]\n",
    "\n",
    "cleaned_text = ' '.join(filter_words)\n",
    "print(cleaned_text)"
   ]
  },
  {
   "cell_type": "code",
   "execution_count": 95,
   "metadata": {},
   "outputs": [
    {
     "ename": "ModuleNotFoundError",
     "evalue": "No module named 'matplotlib'",
     "output_type": "error",
     "traceback": [
      "\u001b[0;31m---------------------------------------------------------------------------\u001b[0m",
      "\u001b[0;31mModuleNotFoundError\u001b[0m                       Traceback (most recent call last)",
      "Cell \u001b[0;32mIn[95], line 1\u001b[0m\n\u001b[0;32m----> 1\u001b[0m \u001b[38;5;28;01mimport\u001b[39;00m\u001b[38;5;250m \u001b[39m\u001b[38;5;21;01mmatplotlib\u001b[39;00m\u001b[38;5;21;01m.\u001b[39;00m\u001b[38;5;21;01mpyplot\u001b[39;00m\u001b[38;5;250m \u001b[39m\u001b[38;5;28;01mas\u001b[39;00m\u001b[38;5;250m \u001b[39m\u001b[38;5;21;01mplt\u001b[39;00m\n\u001b[1;32m      2\u001b[0m \u001b[38;5;28mprint\u001b[39m(plt\u001b[38;5;241m.\u001b[39m__version__)\n",
      "\u001b[0;31mModuleNotFoundError\u001b[0m: No module named 'matplotlib'"
     ]
    }
   ],
   "source": [
    "import matplotlib.pyplot as plt\n"
   ]
  },
  {
   "cell_type": "code",
   "execution_count": 3,
   "metadata": {},
   "outputs": [
    {
     "name": "stdout",
     "output_type": "stream",
     "text": [
      "Unexpected exception formatting exception. Falling back to standard exception\n"
     ]
    },
    {
     "name": "stderr",
     "output_type": "stream",
     "text": [
      "Traceback (most recent call last):\n",
      "  File \"/Users/trangdang/Documents/Project/data manipulation and visualization with python/.venv/lib/python3.9/site-packages/IPython/core/interactiveshell.py\", line 3550, in run_code\n",
      "  File \"/var/folders/k7/rljyypp9343__2xr47zglj2c0000gn/T/ipykernel_59835/207665111.py\", line 1, in <module>\n",
      "    import matplotlib.pyplot as plt\n",
      "ModuleNotFoundError: No module named 'matplotlib'\n",
      "\n",
      "During handling of the above exception, another exception occurred:\n",
      "\n",
      "Traceback (most recent call last):\n",
      "  File \"/Users/trangdang/Documents/Project/data manipulation and visualization with python/.venv/lib/python3.9/site-packages/pygments/styles/__init__.py\", line 45, in get_style_by_name\n",
      "ModuleNotFoundError: No module named 'pygments.styles.default'\n",
      "\n",
      "During handling of the above exception, another exception occurred:\n",
      "\n",
      "Traceback (most recent call last):\n",
      "  File \"/Users/trangdang/Documents/Project/data manipulation and visualization with python/.venv/lib/python3.9/site-packages/IPython/core/interactiveshell.py\", line 2144, in showtraceback\n",
      "  File \"/Users/trangdang/Documents/Project/data manipulation and visualization with python/.venv/lib/python3.9/site-packages/IPython/core/ultratb.py\", line 1435, in structured_traceback\n",
      "  File \"/Users/trangdang/Documents/Project/data manipulation and visualization with python/.venv/lib/python3.9/site-packages/IPython/core/ultratb.py\", line 1326, in structured_traceback\n",
      "  File \"/Users/trangdang/Documents/Project/data manipulation and visualization with python/.venv/lib/python3.9/site-packages/IPython/core/ultratb.py\", line 1173, in structured_traceback\n",
      "  File \"/Users/trangdang/Documents/Project/data manipulation and visualization with python/.venv/lib/python3.9/site-packages/IPython/core/ultratb.py\", line 1063, in format_exception_as_a_whole\n",
      "  File \"/Users/trangdang/Documents/Project/data manipulation and visualization with python/.venv/lib/python3.9/site-packages/IPython/core/ultratb.py\", line 1114, in get_records\n",
      "  File \"/Users/trangdang/Documents/Project/data manipulation and visualization with python/.venv/lib/python3.9/site-packages/pygments/styles/__init__.py\", line 47, in get_style_by_name\n",
      "pygments.util.ClassNotFound: Could not find style module 'pygments.styles.default', though it should be builtin.\n"
     ]
    }
   ],
   "source": [
    "import matplotlib.pyplot as plt "
   ]
  }
 ],
 "metadata": {
  "kernelspec": {
   "display_name": ".venv",
   "language": "python",
   "name": "python3"
  },
  "language_info": {
   "codemirror_mode": {
    "name": "ipython",
    "version": 3
   },
   "file_extension": ".py",
   "mimetype": "text/x-python",
   "name": "python",
   "nbconvert_exporter": "python",
   "pygments_lexer": "ipython3",
   "version": "3.9.2"
  }
 },
 "nbformat": 4,
 "nbformat_minor": 2
}
